{
  "cells": [
    {
      "cell_type": "code",
      "source": [
        "import torch\n",
        "\n",
        "x=torch.tensor(6.7)\n",
        "y=torch.tensor(0.0)\n",
        "\n",
        "w=torch.tensor(1.0, requires_grad=True)\n",
        "b=torch.tensor(0.0, requires_grad=True)"
      ],
      "metadata": {
        "id": "l8wgwddiv5Rt"
      },
      "execution_count": 6,
      "outputs": []
    },
    {
      "cell_type": "code",
      "source": [
        "def loss(prediction,target):\n",
        "  epsilon = 1e-8\n",
        "  prediction = torch.clamp(prediction,epsilon,1-epsilon)\n",
        "  return -target*torch.log(prediction)-(1-target)*torch.log(1-prediction)"
      ],
      "metadata": {
        "id": "pH7S0p3AwH8I"
      },
      "execution_count": 7,
      "outputs": []
    },
    {
      "cell_type": "code",
      "source": [
        "z = w*x + b\n",
        "y_pred = torch.sigmoid(z)\n",
        "\n",
        "loss = loss(y_pred,y)"
      ],
      "metadata": {
        "id": "5ylnAGj0wpVA"
      },
      "execution_count": 8,
      "outputs": []
    },
    {
      "cell_type": "code",
      "source": [
        "loss.backward()"
      ],
      "metadata": {
        "id": "iEQZhwSEw3my"
      },
      "execution_count": 9,
      "outputs": []
    },
    {
      "cell_type": "code",
      "source": [
        "w.grad"
      ],
      "metadata": {
        "id": "dJbMacn_w4Wx",
        "outputId": "90ddc7ab-a910-4751-84bc-e3c9173f9f83",
        "colab": {
          "base_uri": "https://localhost:8080/"
        }
      },
      "execution_count": 10,
      "outputs": [
        {
          "output_type": "execute_result",
          "data": {
            "text/plain": [
              "tensor(6.6918)"
            ]
          },
          "metadata": {},
          "execution_count": 10
        }
      ]
    },
    {
      "cell_type": "code",
      "source": [
        "b.grad"
      ],
      "metadata": {
        "id": "BpMfV-wHxv5a",
        "outputId": "d0b18263-7ceb-45cb-ed7a-16b49b6109cd",
        "colab": {
          "base_uri": "https://localhost:8080/"
        }
      },
      "execution_count": 11,
      "outputs": [
        {
          "output_type": "execute_result",
          "data": {
            "text/plain": [
              "tensor(0.9988)"
            ]
          },
          "metadata": {},
          "execution_count": 11
        }
      ]
    },
    {
      "cell_type": "code",
      "source": [
        "x = torch.tensor([1.0,2.0,3.0], requires_grad=True)\n",
        "y = (x**2).mean()"
      ],
      "metadata": {
        "id": "VKawdD4Nxx3W"
      },
      "execution_count": 34,
      "outputs": []
    },
    {
      "cell_type": "code",
      "source": [
        "y.backward()\n",
        "x.grad\n"
      ],
      "metadata": {
        "id": "iH6G9RgpyZ1s",
        "outputId": "cc220a99-7fdd-47a3-9529-119274bff17e",
        "colab": {
          "base_uri": "https://localhost:8080/"
        }
      },
      "execution_count": 35,
      "outputs": [
        {
          "output_type": "execute_result",
          "data": {
            "text/plain": [
              "tensor([0.6667, 1.3333, 2.0000])"
            ]
          },
          "metadata": {},
          "execution_count": 35
        }
      ]
    },
    {
      "cell_type": "code",
      "source": [
        "x.grad.zero_()"
      ],
      "metadata": {
        "id": "wxF8FJ0syeIT",
        "outputId": "fc1a7e08-1dc7-41d7-cd5f-5d5384cac556",
        "colab": {
          "base_uri": "https://localhost:8080/"
        }
      },
      "execution_count": 32,
      "outputs": [
        {
          "output_type": "execute_result",
          "data": {
            "text/plain": [
              "tensor([0., 0., 0.])"
            ]
          },
          "metadata": {},
          "execution_count": 32
        }
      ]
    },
    {
      "cell_type": "code",
      "source": [
        "x.requires_grad_(False)"
      ],
      "metadata": {
        "id": "cUfm2qULzcWu",
        "outputId": "4a667f43-e178-4f94-d4e2-6acf5659aa0f",
        "colab": {
          "base_uri": "https://localhost:8080/"
        }
      },
      "execution_count": 31,
      "outputs": [
        {
          "output_type": "execute_result",
          "data": {
            "text/plain": [
              "tensor([1., 2., 3.])"
            ]
          },
          "metadata": {},
          "execution_count": 31
        }
      ]
    },
    {
      "cell_type": "code",
      "source": [],
      "metadata": {
        "id": "9bG1hmz6z9au"
      },
      "execution_count": null,
      "outputs": []
    }
  ],
  "metadata": {
    "colab": {
      "name": "Welcome To Colab",
      "provenance": []
    },
    "kernelspec": {
      "display_name": "Python 3",
      "name": "python3"
    }
  },
  "nbformat": 4,
  "nbformat_minor": 0
}