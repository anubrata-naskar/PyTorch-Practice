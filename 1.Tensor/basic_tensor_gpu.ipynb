{
  "nbformat": 4,
  "nbformat_minor": 0,
  "metadata": {
    "colab": {
      "provenance": [],
      "gpuType": "T4"
    },
    "kernelspec": {
      "name": "python3",
      "display_name": "Python 3"
    },
    "language_info": {
      "name": "python"
    },
    "accelerator": "GPU"
  },
  "cells": [
    {
      "cell_type": "code",
      "execution_count": 3,
      "metadata": {
        "colab": {
          "base_uri": "https://localhost:8080/"
        },
        "id": "T7Vob5M5cNJz",
        "outputId": "c87ec4f2-7229-4a67-f58b-6e35f7baf977"
      },
      "outputs": [
        {
          "output_type": "stream",
          "name": "stdout",
          "text": [
            "2.6.0+cu124\n",
            "Tesla T4\n"
          ]
        }
      ],
      "source": [
        "import torch\n",
        "print(torch.__version__)\n",
        "if torch.cuda.is_available():\n",
        "    print(torch.cuda.get_device_name(0))\n",
        "    device = torch.device(\"cuda\")\n",
        "else:\n",
        "  print(\"Not avilable\")"
      ]
    },
    {
      "cell_type": "markdown",
      "source": [
        "# Creating Tensor in GPU"
      ],
      "metadata": {
        "id": "ySHgjOQFdX5l"
      }
    },
    {
      "cell_type": "code",
      "source": [
        "torch.rand((2,3),device=device)"
      ],
      "metadata": {
        "colab": {
          "base_uri": "https://localhost:8080/"
        },
        "id": "2PLNRvYFdGXb",
        "outputId": "6ff84f10-d81b-4737-c68e-6bd5ef4b3ff6"
      },
      "execution_count": 4,
      "outputs": [
        {
          "output_type": "execute_result",
          "data": {
            "text/plain": [
              "tensor([[0.6973, 0.5959, 0.4678],\n",
              "        [0.9796, 0.9129, 0.9055]], device='cuda:0')"
            ]
          },
          "metadata": {},
          "execution_count": 4
        }
      ]
    },
    {
      "cell_type": "code",
      "source": [
        "a = torch.rand(2,3)\n",
        "a"
      ],
      "metadata": {
        "colab": {
          "base_uri": "https://localhost:8080/"
        },
        "id": "fc4kUjs6dXg-",
        "outputId": "8c8ecbd7-a3b4-42e0-d8ed-19f702339b82"
      },
      "execution_count": 6,
      "outputs": [
        {
          "output_type": "execute_result",
          "data": {
            "text/plain": [
              "tensor([[0.4364, 0.6166, 0.8645],\n",
              "        [0.3733, 0.5678, 0.8752]])"
            ]
          },
          "metadata": {},
          "execution_count": 6
        }
      ]
    },
    {
      "cell_type": "code",
      "source": [
        "b = a.to(device)"
      ],
      "metadata": {
        "id": "al9aIHV4dzu8"
      },
      "execution_count": 8,
      "outputs": []
    },
    {
      "cell_type": "code",
      "source": [
        "b+5"
      ],
      "metadata": {
        "colab": {
          "base_uri": "https://localhost:8080/"
        },
        "id": "1m4bg3yId3CP",
        "outputId": "4b43c76a-58d6-48f7-9aa0-25407c740db0"
      },
      "execution_count": 9,
      "outputs": [
        {
          "output_type": "execute_result",
          "data": {
            "text/plain": [
              "tensor([[5.4364, 5.6166, 5.8645],\n",
              "        [5.3733, 5.5678, 5.8752]], device='cuda:0')"
            ]
          },
          "metadata": {},
          "execution_count": 9
        }
      ]
    },
    {
      "cell_type": "markdown",
      "source": [
        "# Creating difference between CPU vs GPU"
      ],
      "metadata": {
        "id": "5IzhXYDReRl2"
      }
    },
    {
      "cell_type": "code",
      "source": [
        "import time\n",
        "\n",
        "# Set matrix size\n",
        "size = 1000\n",
        "\n",
        "# Create two random matrices on CPU\n",
        "matrix_cpu1 = torch.rand(size, size)\n",
        "matrix_cpu2 = torch.rand(size, size)\n",
        "\n",
        "# -------- CPU Timing --------\n",
        "start_cpu = time.time()\n",
        "result_cpu = torch.matmul(matrix_cpu1, matrix_cpu2)\n",
        "end_cpu = time.time()\n",
        "cpu_time = end_cpu - start_cpu\n",
        "print(f\"CPU time: {cpu_time:.4f} seconds\")\n",
        "\n",
        "# -------- GPU Timing (if available) --------\n",
        "if torch.cuda.is_available():\n",
        "    device = torch.device(\"cuda\")\n",
        "\n",
        "    # Move matrices to GPU\n",
        "    matrix_gpu1 = matrix_cpu1.to(device)\n",
        "    matrix_gpu2 = matrix_cpu2.to(device)\n",
        "\n",
        "    # Warm-up GPU (optional but helps accurate timing)\n",
        "    torch.matmul(matrix_gpu1, matrix_gpu2)\n",
        "\n",
        "    # Synchronize before starting timing\n",
        "    torch.cuda.synchronize()\n",
        "    start_gpu = time.time()\n",
        "\n",
        "    result_gpu = torch.matmul(matrix_gpu1, matrix_gpu2)\n",
        "\n",
        "    # Synchronize again to get accurate end time\n",
        "    torch.cuda.synchronize()\n",
        "    end_gpu = time.time()\n",
        "    gpu_time = end_gpu - start_gpu\n",
        "\n",
        "    print(f\"GPU time: {gpu_time:.4f} seconds\")\n",
        "else:\n",
        "    print(\"CUDA GPU is not available.\")\n",
        "\n"
      ],
      "metadata": {
        "colab": {
          "base_uri": "https://localhost:8080/"
        },
        "id": "mZbVVHejd6_r",
        "outputId": "6cd1e9af-9c95-4cee-8987-284f23ee06ed"
      },
      "execution_count": 11,
      "outputs": [
        {
          "output_type": "stream",
          "name": "stdout",
          "text": [
            "CPU time: 0.0285 seconds\n",
            "GPU time: 0.0008 seconds\n"
          ]
        }
      ]
    },
    {
      "cell_type": "markdown",
      "source": [
        "# Reshapping Tensors"
      ],
      "metadata": {
        "id": "TUKthrote-Yl"
      }
    },
    {
      "cell_type": "code",
      "source": [
        "a = torch.ones(4,4)"
      ],
      "metadata": {
        "id": "VkjmT0tZe89N"
      },
      "execution_count": 12,
      "outputs": []
    },
    {
      "cell_type": "code",
      "source": [
        "a.reshape(2,2,2,2)"
      ],
      "metadata": {
        "colab": {
          "base_uri": "https://localhost:8080/"
        },
        "id": "tZWpoVbmfEyx",
        "outputId": "e18ed935-891f-4c84-82b0-42d28028cef5"
      },
      "execution_count": 13,
      "outputs": [
        {
          "output_type": "execute_result",
          "data": {
            "text/plain": [
              "tensor([[[[1., 1.],\n",
              "          [1., 1.]],\n",
              "\n",
              "         [[1., 1.],\n",
              "          [1., 1.]]],\n",
              "\n",
              "\n",
              "        [[[1., 1.],\n",
              "          [1., 1.]],\n",
              "\n",
              "         [[1., 1.],\n",
              "          [1., 1.]]]])"
            ]
          },
          "metadata": {},
          "execution_count": 13
        }
      ]
    },
    {
      "cell_type": "code",
      "source": [],
      "metadata": {
        "id": "MIWbSxpFfOMS"
      },
      "execution_count": null,
      "outputs": []
    }
  ]
}